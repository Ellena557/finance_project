{
 "cells": [
  {
   "cell_type": "markdown",
   "metadata": {},
   "source": [
    "## Нахождение цен и ее оптимизация для европейских и американских опционов в биномиальной модели."
   ]
  },
  {
   "cell_type": "code",
   "execution_count": 1,
   "metadata": {},
   "outputs": [],
   "source": [
    "import numpy as np"
   ]
  },
  {
   "cell_type": "markdown",
   "metadata": {},
   "source": [
    "### 1. Европейский алгоритм за $O(n^2)$"
   ]
  },
  {
   "cell_type": "code",
   "execution_count": 2,
   "metadata": {},
   "outputs": [],
   "source": [
    "def eur_alg_square(r, u, d, s, n, g):\n",
    "    p_neut = (1 + r - d)/(u - d)\n",
    "    q_neut = 1 - p_neut\n",
    "    v = np.zeros((n + 1, n + 1))\n",
    "    \n",
    "    for i in range(0, n+1):\n",
    "        v[n][i] = max(g((u ** i) * (d ** (n - i)) * s), 0)\n",
    "    \n",
    "    for period in range(n-1, -1, -1):\n",
    "        for j in range(0, period + 1):\n",
    "            v[period][j] = (1 / (1 + r)) * (p_neut * v[period + 1][j] + q_neut * v[period + 1][j + 1])\n",
    "    return v[0][0]"
   ]
  },
  {
   "cell_type": "markdown",
   "metadata": {},
   "source": [
    "Работа для примера из текстового файла:"
   ]
  },
  {
   "cell_type": "code",
   "execution_count": 3,
   "metadata": {},
   "outputs": [
    {
     "data": {
      "text/plain": [
       "0.96"
      ]
     },
     "execution_count": 3,
     "metadata": {},
     "output_type": "execute_result"
    }
   ],
   "source": [
    "def geur(s):\n",
    "    return 5-s\n",
    "\n",
    "eur_alg_square(1/4, 2, 1/2, 4, 2, geur)"
   ]
  },
  {
   "cell_type": "markdown",
   "metadata": {},
   "source": [
    "### 2. Европейский алгоритм за $O(n)$"
   ]
  },
  {
   "cell_type": "code",
   "execution_count": 4,
   "metadata": {},
   "outputs": [],
   "source": [
    "def factorial(n):\n",
    "    if (n == 0):\n",
    "        return 1\n",
    "    else:\n",
    "        return n * factorial(n-1)\n",
    "    \n",
    "def bin_coef(n, m):\n",
    "    return factorial(n) / ((factorial(n - m)) * factorial(m))"
   ]
  },
  {
   "cell_type": "code",
   "execution_count": 5,
   "metadata": {},
   "outputs": [],
   "source": [
    "def eur_alg_linear(r, u, d, s, n, g):\n",
    "    p_neut = (1 + r - d)/(u - d)\n",
    "    q_neut = 1 - p_neut\n",
    "    v = np.zeros(n + 1)\n",
    "    \n",
    "    for i in range(0, n + 1):\n",
    "        v[i] = max(g((u ** i) * (d ** (n - i)) * s), 0)\n",
    "    \n",
    "    v_0 = 0\n",
    "    for i in range(0, n + 1):\n",
    "        v_0 += (p_neut ** (n-i)) * (q_neut ** i) * bin_coef(n, i) * v[n-i]\n",
    "    \n",
    "    v_0 *= (1 / (1 + r)) ** n\n",
    "    \n",
    "    return v_0"
   ]
  },
  {
   "cell_type": "markdown",
   "metadata": {},
   "source": [
    "Работа для примера из текстового файла:"
   ]
  },
  {
   "cell_type": "code",
   "execution_count": 6,
   "metadata": {},
   "outputs": [
    {
     "name": "stdout",
     "output_type": "stream",
     "text": [
      "0.96\n"
     ]
    }
   ],
   "source": [
    "def geur(s):\n",
    "    return 5-s\n",
    "\n",
    "res = eur_alg_linear(1/4, 2, 1/2, 4, 2, geur)\n",
    "print(float('{:.7f}'.format(res)))"
   ]
  },
  {
   "cell_type": "markdown",
   "metadata": {},
   "source": [
    "### 3. Американский алгоритм за $O(n^2)$"
   ]
  },
  {
   "cell_type": "code",
   "execution_count": 7,
   "metadata": {},
   "outputs": [],
   "source": [
    "def amer_alg(r, u, d, s, n, g):\n",
    "    p_neut = (1 + r - d)/(u - d)\n",
    "    q_neut = 1 - p_neut\n",
    "    v = np.zeros((n + 1, n + 1))\n",
    "    \n",
    "    for i in range(0, n+1):\n",
    "        v[n][i] = max(g((u ** i) * (d ** (n - i)) * s), 0)\n",
    "    \n",
    "    for period in range(n-1, -1, -1):\n",
    "        for j in range(0, period + 1):\n",
    "            v[period][j] = max(\n",
    "                g((u ** j) * (d ** (period - j)) * s), \n",
    "                (1 / (1 + r)) * (p_neut * v[period + 1][j] + q_neut * v[period + 1][j + 1])\n",
    "            )\n",
    "    return v[0][0]"
   ]
  },
  {
   "cell_type": "markdown",
   "metadata": {},
   "source": [
    "Для примера из текстового файла:"
   ]
  },
  {
   "cell_type": "code",
   "execution_count": 53,
   "metadata": {},
   "outputs": [
    {
     "name": "stdout",
     "output_type": "stream",
     "text": [
      "1.36\n"
     ]
    }
   ],
   "source": [
    "def geur(s):\n",
    "    return 5-s\n",
    "\n",
    "res2 = amer_alg(1/4, 2, 1/2, 4, 2, geur)\n",
    "print(float('{:.7f}'.format(res2)))"
   ]
  },
  {
   "cell_type": "markdown",
   "metadata": {},
   "source": [
    "### 4. Оптимизированный американский алгоритм"
   ]
  },
  {
   "cell_type": "markdown",
   "metadata": {},
   "source": [
    "В функции ниже используется, что рациональная выпуклость функции + ее непрерывность дают выпуклость этой функции."
   ]
  },
  {
   "cell_type": "code",
   "execution_count": 13,
   "metadata": {},
   "outputs": [],
   "source": [
    "# проверка функции на выпуклость\n",
    "def is_convex(g, s, u, n):\n",
    "    is_conv = True\n",
    "    \n",
    "    for i in range(10000):\n",
    "        s_1, s_2 = np.random.uniform(low = 0.0, high = u ** n * s, size = 2)\n",
    "        if (g((s_1 + s_2) / 2) - (g(s_1) + g(s_2))/2 > 1e-7):\n",
    "            is_conv = False\n",
    "            #print(s_1, s_2)\n",
    "            \n",
    "    return is_conv\n",
    "\n",
    "# специально для путей в бин. модели\n",
    "def is_convex_extra(g, min_val, max_val):\n",
    "    is_conv = True\n",
    "    \n",
    "    range_size = (int)(max_val - min_val) * 10\n",
    "    \n",
    "    for i in range(range_size):\n",
    "        s_1, s_2 = np.random.uniform(low = min_val, high = max_val, size = 2)\n",
    "        if (g((s_1 + s_2) / 2) - (g(s_1) + g(s_2))/2 > 1e-7):\n",
    "            is_conv = False\n",
    "            \n",
    "    return is_conv\n",
    "\n",
    "# проверка на выпуклость только в вершинах дерева\n",
    "def is_convex_fast(g, s, u, d, n, cur_period):\n",
    "    is_conv = True\n",
    "    \n",
    "    node_values = []\n",
    "    for period in range(cur_period, n+1):\n",
    "        for j in range(0, period+1):\n",
    "            node_values.append(s * (u ** j) * (d ** (period - j)))\n",
    "    \n",
    "    for value_1 in node_values:\n",
    "        for value_2 in node_values:\n",
    "            if (g((value_1 + value_2) / 2) - (g(value_1) + g(value_2))/2 > 1e-7):\n",
    "                is_conv = False\n",
    "                \n",
    "    return is_conv"
   ]
  },
  {
   "cell_type": "code",
   "execution_count": 14,
   "metadata": {},
   "outputs": [
    {
     "name": "stdout",
     "output_type": "stream",
     "text": [
      "True\n",
      "True\n"
     ]
    }
   ],
   "source": [
    "# Пример для проверки: функция выплат американского опциона колл со страйком K\n",
    "def amer(s):\n",
    "    return s-5\n",
    "\n",
    "print(is_convex(amer, 4, 2, 2))\n",
    "print(is_convex_fast(amer, 4, 2, 1/2, 2, 0))"
   ]
  },
  {
   "cell_type": "code",
   "execution_count": 26,
   "metadata": {},
   "outputs": [],
   "source": [
    "def amer_alg_opt(r, u, d, s, n, g):\n",
    "    \n",
    "    # случай, когда g - выпуклая\n",
    "    if (is_convex_fast(g, s, u, d, n, 0) and g(0) == 0):\n",
    "        return eur_alg_linear(r, u, d, s, n, g)\n",
    "    \n",
    "    # случай, когда g - частично выпуклая\n",
    "    if (g(0) == 0):\n",
    "        p_neut = (1 + r - d)/(u - d)\n",
    "        q_neut = 1 - p_neut\n",
    "        v = np.zeros((n + 1, n + 1))\n",
    "        \n",
    "        # значения в последнем периоде\n",
    "        s_last = []\n",
    "        for i in range(n+1):\n",
    "            s_last.append(s * (u ** j) * (d ** (n - j)))\n",
    "    \n",
    "        for i in range(0, n+1):\n",
    "            v[n][i] = max(g((u ** i) * (d ** (n - i)) * s), 0)\n",
    "            \n",
    "        is_partly_convex = False\n",
    "        convex_indexes = []\n",
    "        convex_period = 0\n",
    "        \n",
    "        # ищем самый ранний период, в котором можно упростить\n",
    "        for period in range(0, n):\n",
    "            for j in range(0, period + 1):\n",
    "                if (is_convex_fast(g, s, u, d, n, period)):\n",
    "                    is_partly_convex = True\n",
    "                    convex_indexes.append(j)\n",
    "                    convex_period = period\n",
    "            if(is_partly_convex):  \n",
    "                break\n",
    "        \n",
    "        if(is_partly_convex):\n",
    "            for j in range(0, convex_period + 1):\n",
    "                if (j in convex_indexes):\n",
    "                    s_current = (u ** j) * (d ** (period - j)) * s\n",
    "                    v[period][j] = eur_alg_linear(r, u, d, s_current, n - period, g)\n",
    "                else:\n",
    "                    s_current = (u ** j) * (d ** (period - j)) * s\n",
    "                    v[period][j] = amer_alg(r, u, d, s_current, n - period, g)\n",
    "                    \n",
    "            for period in range(convex_period - 1, -1, -1):\n",
    "                for j in range(0, period + 1):\n",
    "                    v[period][j] = v[period][j] = max(\n",
    "                g((u ** j) * (d ** (period - j)) * s), \n",
    "                (1 / (1 + r)) * (p_neut * v[period + 1][j] + q_neut * v[period + 1][j + 1])\n",
    "            )\n",
    "            \n",
    "        else:\n",
    "            v[0][0] = amer_alg(r, u, d, s, n, g)\n",
    "        \n",
    "        return v[0][0]\n",
    "    \n",
    "    else:\n",
    "        return amer_alg(r, u, d, s, n, g)"
   ]
  },
  {
   "cell_type": "code",
   "execution_count": 27,
   "metadata": {},
   "outputs": [
    {
     "data": {
      "text/plain": [
       "0.21120000000000005"
      ]
     },
     "execution_count": 27,
     "metadata": {},
     "output_type": "execute_result"
    }
   ],
   "source": [
    "# опцион пут со страйком 2\n",
    "def amer_put_ex(s):\n",
    "    return max(0, 2-s)\n",
    "\n",
    "amer_alg_opt(1/4, 2, 1/2, 4, 4, amer_put_ex)"
   ]
  },
  {
   "cell_type": "markdown",
   "metadata": {},
   "source": [
    "Разберем другую вариацию алгоритма. В текстовом файле была теорема:\n",
    "\n",
    "* Рассмотрим биномиальную модель с $n$ периодами, где $0 < d < 1+r < u$ и процентная ставка неотрицательна ($r \\geq 0 $). Пускай функция выплат (в американской модели) $g(s)$ - выпуклая и $g(0) = 0$. Тогда стоимость данной ценной бумаги в нулевой момент времени равна стоимости ценной бумаги в европейской модели с той же функцией выплат и сроком погашения $n$. \n",
    "\n",
    "Теорема останется верна, если добавим условие \"$g$ - неубывающая\"."
   ]
  },
  {
   "cell_type": "code",
   "execution_count": 28,
   "metadata": {},
   "outputs": [],
   "source": [
    "# проверка функции на неубываемость\n",
    "def is_nondecreasing(g, s, u, n):\n",
    "    is_nondec = True\n",
    "    \n",
    "    range_size = u ** n * s * 100\n",
    "    \n",
    "    for i in range(range_size):\n",
    "        s_1, s_2 = np.random.uniform(low = 0.0, high = u ** n * s, size = 2)\n",
    "        if ((g(s_1) - g(s_2)) * (s_1 - s_2) < 0):\n",
    "            is_nondec = False\n",
    "            \n",
    "    return is_nondec\n",
    "\n",
    "# специально для путей в бин. модели\n",
    "def is_nondecreasing_extra(g, min_val, max_val):\n",
    "    is_nondec = True\n",
    "    \n",
    "    range_size = (int)(max_val - min_val) * 10\n",
    "    \n",
    "    for i in range(range_size):\n",
    "        s_1, s_2 = np.random.uniform(low = min_val, high = max_val, size = 2)\n",
    "        if ((g(s_1) - g(s_2)) * (s_1 - s_2) < 0):\n",
    "            is_nondec = False\n",
    "            \n",
    "    return is_nondec\n",
    "\n",
    "# в узлах дерева\n",
    "def is_nondecreasing_fast(g, s, u, d, n, cur_period):\n",
    "    is_nondec = True\n",
    "    \n",
    "    node_values = []\n",
    "    for period in range(cur_period, n+1):\n",
    "        for j in range(0, period+1):\n",
    "            node_values.append(s * (u ** j) * (d ** (period - j)))\n",
    "    \n",
    "    for value_1 in node_values:\n",
    "        for value_2 in node_values:\n",
    "            if ((g(value_1) - g(value_2)) * (value_1 - value_2) < 0):\n",
    "                is_nondec = False\n",
    "                \n",
    "    return is_nondec"
   ]
  },
  {
   "cell_type": "code",
   "execution_count": 39,
   "metadata": {},
   "outputs": [],
   "source": [
    "def amer_alg_opt_2(r, u, d, s, n, g):\n",
    "    \n",
    "    # случай, когда g - выпуклая\n",
    "    if (is_convex(g, s, u, n) and g(0) == 0):\n",
    "        return eur_alg_linear(r, u, d, s, n, g)\n",
    "    \n",
    "    # случай, когда g - частично выпуклая\n",
    "    if (g(0) == 0):\n",
    "        p_neut = (1 + r - d)/(u - d)\n",
    "        q_neut = 1 - p_neut\n",
    "        v = np.zeros((n + 1, n + 1))\n",
    "        \n",
    "        # значения в последнем периоде\n",
    "        s_last = []\n",
    "        for j in range(n+1):\n",
    "            s_last.append(s * (u ** j) * (d ** (n - j)))\n",
    "    \n",
    "        for i in range(0, n+1):\n",
    "            v[n][i] = max(g((u ** i) * (d ** (n - i)) * s), 0)\n",
    "            \n",
    "        is_partly_convex = False\n",
    "        convex_indexes = []\n",
    "        convex_period = 0\n",
    "        \n",
    "        # ищем самый ранний период, в котором можно упростить\n",
    "        for period in range(0, n):\n",
    "            for j in range(0, period + 1):\n",
    "                s_current = (u ** j) * (d ** (period - j)) * s\n",
    "                max_current = s_current * (u ** (n - j))\n",
    "                min_current = s_current * (d ** (n - j))\n",
    "                if(is_convex_fast(g, s, u, d, n, period) and is_nondecreasing_fast(g, s, u, d, n, period)):\n",
    "                    is_partly_convex = True\n",
    "                    convex_indexes.append(j)\n",
    "                    convex_period = period\n",
    "                    #print(min_current, max_current)\n",
    "                if(is_partly_convex):  \n",
    "                    break\n",
    "    \n",
    "        #print(convex_period)\n",
    "        #print(convex_indexes)\n",
    "    \n",
    "        if(is_partly_convex):\n",
    "            for j in range(0, convex_period + 1):\n",
    "                if (j in convex_indexes):\n",
    "                    s_current = (u ** j) * (d ** (period - j)) * s\n",
    "                    v[period][j] = eur_alg_linear(r, u, d, s_current, n - period, g)\n",
    "                else:\n",
    "                    s_current = (u ** j) * (d ** (period - j)) * s\n",
    "                    v[period][j] = amer_alg(r, u, d, s_current, n - period, g)\n",
    "                    \n",
    "            for period in range(convex_period - 1, -1, -1):\n",
    "                for j in range(0, period + 1):\n",
    "                    v[period][j] = max(\n",
    "                    g((u ** j) * (d ** (period - j)) * s), \n",
    "                    (1 / (1 + r)) * (p_neut * v[period + 1][j] + q_neut * v[period + 1][j + 1])\n",
    "                )\n",
    "            \n",
    "        else:\n",
    "            v[0][0] = amer_alg(r, u, d, s, n, g)\n",
    "            \n",
    "        return v[0][0]    \n",
    "    \n",
    "    else:\n",
    "        return amer_alg(r, u, d, s, n, g)"
   ]
  },
  {
   "cell_type": "code",
   "execution_count": 40,
   "metadata": {},
   "outputs": [
    {
     "data": {
      "text/plain": [
       "3.0"
      ]
     },
     "execution_count": 40,
     "metadata": {},
     "output_type": "execute_result"
    }
   ],
   "source": [
    "# опцион пут со страйком 5\n",
    "def amer_put_ex(s):\n",
    "    return max(0, 5-s)\n",
    "\n",
    "amer_alg_opt_2(1/4, 2, 1/2, 2, 4, amer_put_ex)"
   ]
  },
  {
   "cell_type": "code",
   "execution_count": 41,
   "metadata": {},
   "outputs": [
    {
     "data": {
      "text/plain": [
       "1.7168134144000005"
      ]
     },
     "execution_count": 41,
     "metadata": {},
     "output_type": "execute_result"
    }
   ],
   "source": [
    "def amer_put_ex33(s):\n",
    "    return max(0, 12-s)\n",
    "\n",
    "amer_alg_opt_2(1/4, 2, 1/2, 20, 10, amer_put_ex33)"
   ]
  },
  {
   "cell_type": "code",
   "execution_count": 42,
   "metadata": {},
   "outputs": [
    {
     "data": {
      "text/plain": [
       "1.7168134144000005"
      ]
     },
     "execution_count": 42,
     "metadata": {},
     "output_type": "execute_result"
    }
   ],
   "source": [
    "# для сравнения\n",
    "amer_alg_opt(1/4, 2, 1/2, 20, 10, amer_put_ex33)"
   ]
  },
  {
   "cell_type": "markdown",
   "metadata": {},
   "source": [
    "### 5. Европейский опцион"
   ]
  },
  {
   "cell_type": "code",
   "execution_count": 43,
   "metadata": {},
   "outputs": [],
   "source": [
    "def eur_call(K, s):\n",
    "    return (s - K)\n",
    "\n",
    "def eur_put(K, s):\n",
    "    return (K - s)"
   ]
  },
  {
   "cell_type": "markdown",
   "metadata": {},
   "source": [
    "Функции для вычисления цены европейских опционов колл и пут (работают за $O(n)$):"
   ]
  },
  {
   "cell_type": "code",
   "execution_count": 44,
   "metadata": {},
   "outputs": [],
   "source": [
    "def eur_option_call_price(r, u, d, s, n, K):\n",
    "    \n",
    "    def g(s):\n",
    "        return eur_call(K, s)\n",
    "    \n",
    "    v_0 = eur_alg_linear(r, u, d, s, n, g)\n",
    "    \n",
    "    return v_0\n",
    "\n",
    "\n",
    "def eur_option_put_price(r, u, d, s, n, K):\n",
    "    \n",
    "    def g(s):\n",
    "        return eur_put(K, s)\n",
    "    \n",
    "    v_0 = eur_alg_linear(r, u, d, s, n, g)\n",
    "    \n",
    "    return v_0"
   ]
  },
  {
   "cell_type": "markdown",
   "metadata": {},
   "source": [
    "И снова, проверим для примера из текстового файла:"
   ]
  },
  {
   "cell_type": "code",
   "execution_count": 45,
   "metadata": {},
   "outputs": [
    {
     "name": "stdout",
     "output_type": "stream",
     "text": [
      "0.96\n"
     ]
    }
   ],
   "source": [
    "res3 = eur_option_put_price(1/4, 2, 1/2, 4, 2, 5)\n",
    "print(float('{:.7f}'.format(res3)))"
   ]
  },
  {
   "cell_type": "markdown",
   "metadata": {},
   "source": [
    "### 6. Американский опцион"
   ]
  },
  {
   "cell_type": "code",
   "execution_count": 46,
   "metadata": {},
   "outputs": [],
   "source": [
    "def amer_call(K, s):\n",
    "    return (s - K)\n",
    "\n",
    "def amer_put(K, s):\n",
    "    return (K - s)"
   ]
  },
  {
   "cell_type": "markdown",
   "metadata": {},
   "source": [
    "В тексте было доказано, что для американского опциона колл функция $g$ - выпуклая, так что по Теореме получим, что цену американского опциона колл можно посчитать за $O(n)$ и она будет равна цене европейского опциона колл."
   ]
  },
  {
   "cell_type": "code",
   "execution_count": 47,
   "metadata": {},
   "outputs": [],
   "source": [
    "def amer_option_call_price(r, u, d, s, n, K):\n",
    "    \n",
    "    v_0 = eur_option_call_price(r, u, d, s, n, K)   \n",
    "    \n",
    "    return v_0\n",
    "\n",
    "\n",
    "def amer_option_put_price(r, u, d, s, n, K):\n",
    "    \n",
    "    def g(s):\n",
    "        return amer_put(K, s)\n",
    "    \n",
    "    v_0 = amer_alg_opt(r, u, d, s, n, g)\n",
    "    #v_0 = amer_alg_opt_2(r, u, d, s, n, g)\n",
    "    \n",
    "    return v_0"
   ]
  },
  {
   "cell_type": "markdown",
   "metadata": {},
   "source": [
    "И снова, проверка для примера из текстового файла:"
   ]
  },
  {
   "cell_type": "code",
   "execution_count": 48,
   "metadata": {},
   "outputs": [
    {
     "name": "stdout",
     "output_type": "stream",
     "text": [
      "1.36\n"
     ]
    }
   ],
   "source": [
    "res4 = amer_option_put_price(1/4, 2, 1/2, 4, 2, 5)\n",
    "print(float('{:.7f}'.format(res4)))"
   ]
  },
  {
   "cell_type": "markdown",
   "metadata": {},
   "source": [
    "### 7. Примеры"
   ]
  },
  {
   "cell_type": "markdown",
   "metadata": {},
   "source": [
    "1. Биномиальная модель с 10 периодами. Рассмотрим американский опцион колл со страйком 12. $S_0 = 16$, $u=2$, $d=\\dfrac{1}{2}$, $r = \\dfrac{1}{4}$."
   ]
  },
  {
   "cell_type": "code",
   "execution_count": 49,
   "metadata": {},
   "outputs": [
    {
     "name": "stdout",
     "output_type": "stream",
     "text": [
      "15.0953001\n"
     ]
    }
   ],
   "source": [
    "res5 = amer_option_call_price(1/4, 2, 1/2, 16, 10, 12)\n",
    "print(float('{:.7f}'.format(res5)))"
   ]
  },
  {
   "cell_type": "markdown",
   "metadata": {},
   "source": [
    "2. Биномиальная модель с 12 периодами. Рассмотрим европейский опцион пут со страйком 11. $S_0 = 20$, $u=2$, $d=\\dfrac{1}{2}$, $r = \\dfrac{1}{5}$."
   ]
  },
  {
   "cell_type": "code",
   "execution_count": 50,
   "metadata": {},
   "outputs": [
    {
     "name": "stdout",
     "output_type": "stream",
     "text": [
      "0.4466967\n"
     ]
    }
   ],
   "source": [
    "res6 = eur_option_put_price(1/5, 2, 1/2, 20, 12, 11)\n",
    "print(float('{:.7f}'.format(res6)))"
   ]
  },
  {
   "cell_type": "markdown",
   "metadata": {},
   "source": [
    "3. Биномиальная модель с 17 периодами. Рассмотрим европейский опцион пут и американский опцион пут со страйком 12. $S_0 = 20$, $u=2$, \n",
    "\n",
    "$d=\\dfrac{1}{2}$, $r = \\dfrac{1}{4}$."
   ]
  },
  {
   "cell_type": "code",
   "execution_count": 165,
   "metadata": {},
   "outputs": [
    {
     "name": "stdout",
     "output_type": "stream",
     "text": [
      "Европейский опцион\n",
      "0.0834787\n",
      "Американский опцион\n",
      "1.7463465\n"
     ]
    }
   ],
   "source": [
    "res7 = eur_option_put_price(1/4, 2, 1/2, 20, 17, 12)\n",
    "print(\"Европейский опцион\")\n",
    "print(float('{:.7f}'.format(res7)))\n",
    "\n",
    "res8 = amer_option_put_price(1/4, 2, 1/2, 20, 17, 12)\n",
    "print(\"Американский опцион\")\n",
    "print(float('{:.7f}'.format(res8)))"
   ]
  },
  {
   "cell_type": "markdown",
   "metadata": {},
   "source": [
    "Как мы видим, у европейского опциона пут цена значительно ниже."
   ]
  },
  {
   "cell_type": "markdown",
   "metadata": {},
   "source": [
    "4. Биномиальная модель с 17 периодами. Рассмотрим европейский опцион колл и американский опцион колл со страйком 12. $S_0 = 20$, $u=2$, \n",
    "\n",
    "$d=\\dfrac{1}{2}$, $r = \\dfrac{1}{4}$."
   ]
  },
  {
   "cell_type": "code",
   "execution_count": 54,
   "metadata": {},
   "outputs": [
    {
     "name": "stdout",
     "output_type": "stream",
     "text": [
      "Европейский опцион\n",
      "19.8132628\n",
      "Американский опцион\n",
      "19.8132628\n",
      "Американский опцион напрямую через американский алгоритм\n",
      "19.8132628\n"
     ]
    }
   ],
   "source": [
    "res9 = eur_option_call_price(1/4, 2, 1/2, 20, 17, 12)\n",
    "print(\"Европейский опцион\")\n",
    "print(float('{:.7f}'.format(res9)))\n",
    "\n",
    "res10 = amer_option_call_price(1/4, 2, 1/2, 20, 17, 12)\n",
    "print(\"Американский опцион\")\n",
    "print(float('{:.7f}'.format(res10)))\n",
    "\n",
    "def amer_call_12(s):\n",
    "    return (s - 12)\n",
    "\n",
    "res11 = amer_alg(1/4, 2, 1/2, 20, 17, amer_call_12)\n",
    "print(\"Американский опцион напрямую через американский алгоритм\")\n",
    "print(float('{:.7f}'.format(res10)))"
   ]
  },
  {
   "cell_type": "markdown",
   "metadata": {},
   "source": [
    "Как видим, результаты одинаковые."
   ]
  },
  {
   "cell_type": "code",
   "execution_count": null,
   "metadata": {},
   "outputs": [],
   "source": []
  }
 ],
 "metadata": {
  "kernelspec": {
   "display_name": "Python 3",
   "language": "python",
   "name": "python3"
  },
  "language_info": {
   "codemirror_mode": {
    "name": "ipython",
    "version": 3
   },
   "file_extension": ".py",
   "mimetype": "text/x-python",
   "name": "python",
   "nbconvert_exporter": "python",
   "pygments_lexer": "ipython3",
   "version": "3.7.1"
  }
 },
 "nbformat": 4,
 "nbformat_minor": 2
}
